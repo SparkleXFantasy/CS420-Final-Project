{
 "cells": [
  {
   "cell_type": "code",
   "execution_count": 1,
   "metadata": {
    "pycharm": {
     "name": "#%%\n"
    }
   },
   "outputs": [],
   "source": [
    "import h5py\n",
    "import numpy as np\n",
    "import os\n",
    "import os.path\n",
    "from pathlib import Path\n",
    "import pickle\n",
    "\n",
    "import sys\n",
    "import time\n",
    "import warnings\n",
    "warnings.filterwarnings(\"ignore\")\n",
    "\n",
    "_project_folder_ = os.path.realpath(os.path.abspath('..'))\n",
    "if _project_folder_ not in sys.path:\n",
    "    sys.path.insert(0, _project_folder_)\n",
    "from data.sketch_util import SketchUtil\n"
   ]
  },
  {
   "cell_type": "code",
   "execution_count": 2,
   "metadata": {
    "collapsed": true,
    "pycharm": {
     "name": "#%%\n"
    }
   },
   "outputs": [],
   "source": [
    "# Arguments\n",
    "quickdraw_root = '../../dataset'\n",
    "# output_root = './log/'\n",
    "output_root = quickdraw_root\n",
    "\n",
    "if not os.path.exists(output_root):\n",
    "    os.makedirs(output_root)"
   ]
  },
  {
   "cell_type": "code",
   "execution_count": 3,
   "metadata": {
    "collapsed": true,
    "pycharm": {
     "name": "#%%\n"
    }
   },
   "outputs": [],
   "source": [
    "def get_categories():\n",
    "    res = [npz_file.stem[10:] for npz_file in list(Path(quickdraw_root).glob('*.npz'))]\n",
    "    return sorted(res, key=lambda s: s.lower())\n",
    "\n",
    "def load_npz(file_path):\n",
    "    npz = np.load(file_path, encoding='latin1', allow_pickle=True)\n",
    "    return npz['train'], npz['valid'], npz['test']\n",
    "\n",
    "def cvrt_points3(points3_array):\n",
    "    points3 = np.array(points3_array, dtype=np.int32)\n",
    "    # points3[:, 0:2] = np.cumsum(points3[:, 0:2], axis=0)\n",
    "    return points3\n",
    "\n",
    "def cvrt_category_to_points3(points3_arrays, hdf5_group=None):\n",
    "    max_num_points = 0\n",
    "    res = []\n",
    "    for pts3_arr in points3_arrays:\n",
    "        if len(pts3_arr) < 3:\n",
    "            continue\n",
    "        pts3 = np.array(cvrt_points3(pts3_arr), np.float32)\n",
    "        pts3_norm = SketchUtil.normalization(pts3[:, 0:2])\n",
    "        if pts3_norm is None:\n",
    "            continue\n",
    "        pts3[:, 0:2] = pts3_norm\n",
    "        \n",
    "        npts3 = len(pts3)\n",
    "        if npts3 > max_num_points:\n",
    "            max_num_points = npts3\n",
    "        \n",
    "        if hdf5_group is not None:\n",
    "            hdf5_group.create_dataset(str(len(res)), data=pts3)\n",
    "\n",
    "        res.append(pts3)\n",
    "    return res, max_num_points\n"
   ]
  },
  {
   "cell_type": "code",
   "execution_count": 4,
   "metadata": {
    "collapsed": true,
    "scrolled": true,
    "pycharm": {
     "name": "#%%\n"
    }
   },
   "outputs": [
    {
     "name": "stdout",
     "output_type": "stream",
     "text": [
      "[*] Number of categories = 25\n",
      "[*] ------\n",
      "['bear', 'camel', 'cat', 'cow', 'crocodile', 'dog', 'elephant', 'flamingo', 'giraffe', 'hedgehog', 'horse', 'kangaroo', 'lion', 'monkey', 'owl', 'panda', 'penguin', 'pig', 'raccoon', 'rhinoceros', 'sheep', 'squirrel', 'tiger', 'whale', 'zebra']\n",
      "[*] ------\n",
      "[*] Processing 1th category: bear\n",
      "[*] Processing 2th category: camel\n",
      "[*] Processing 3th category: cat\n",
      "[*] Processing 4th category: cow\n",
      "[*] Processing 5th category: crocodile\n",
      "[*] Processing 6th category: dog\n",
      "[*] Processing 7th category: elephant\n",
      "[*] Processing 8th category: flamingo\n",
      "[*] Processing 9th category: giraffe\n",
      "[*] Processing 10th category: hedgehog\n",
      "[*] Processing 11th category: horse\n",
      "[*] Processing 12th category: kangaroo\n",
      "[*] Processing 13th category: lion\n",
      "[*] Processing 14th category: monkey\n",
      "[*] Processing 15th category: owl\n",
      "[*] Processing 16th category: panda\n",
      "[*] Processing 17th category: penguin\n",
      "[*] Processing 18th category: pig\n",
      "[*] Processing 19th category: raccoon\n",
      "[*] Processing 20th category: rhinoceros\n",
      "[*] Processing 21th category: sheep\n",
      "[*] Processing 22th category: squirrel\n",
      "[*] Processing 23th category: tiger\n",
      "[*] Processing 24th category: whale\n",
      "[*] Processing 25th category: zebra\n",
      "max_num_points = 226\n",
      "All done.\n"
     ]
    }
   ],
   "source": [
    "category_names = get_categories()\n",
    "print('[*] Number of categories = {}'.format(len(category_names)))\n",
    "print('[*] ------')\n",
    "print(category_names)\n",
    "print('[*] ------')\n",
    "\n",
    "hdf5_names = ['train', 'valid', 'test']\n",
    "mode_indices = [list() for hn in hdf5_names]\n",
    "hdf5_files = [h5py.File(os.path.join(output_root, 'quickdraw_{}.hdf5'.format(hn)), 'w', libver='latest') for hn in hdf5_names]\n",
    "hdf5_groups = [h5.create_group('/sketch') for h5 in hdf5_files]\n",
    "\n",
    "max_num_points = 0\n",
    "for cid, category_name in enumerate(category_names):\n",
    "    print('[*] Processing {}th category: {}'.format(cid + 1, category_name))\n",
    "\n",
    "    train_valid_test = load_npz(os.path.join(quickdraw_root,\"sketchrnn_\" +  category_name + '.npz'))\n",
    "    \n",
    "    for mid, mode in enumerate(hdf5_names):\n",
    "        hdf5_category_group = hdf5_groups[mid].create_group(str(cid))\n",
    "        pts3_arrays, npts3 = cvrt_category_to_points3(train_valid_test[mid], hdf5_category_group)\n",
    "        nsketches = len(pts3_arrays)\n",
    "\n",
    "        if npts3 > max_num_points:\n",
    "            max_num_points = npts3\n",
    "\n",
    "        hdf5_category_group.attrs['num_sketches'] = nsketches\n",
    "        mode_indices[mid].extend(list(zip([cid] * nsketches, range(nsketches))))\n",
    "\n",
    "for gid, gp in enumerate(hdf5_groups):\n",
    "    gp.attrs['num_categories'] = len(category_names)\n",
    "    gp.attrs['max_points'] = max_num_points\n",
    "\n",
    "for hf in hdf5_files:\n",
    "    hf.flush()\n",
    "    hf.close()\n",
    "\n",
    "pkl_save = {'categories': category_names, 'indices': mode_indices}\n",
    "with open(os.path.join(output_root, 'categories.pkl'), 'wb') as fh:\n",
    "    pickle.dump(pkl_save, fh, pickle.HIGHEST_PROTOCOL)    \n",
    "\n",
    "print('max_num_points = {}'.format(max_num_points))\n",
    "print('All done.')\n"
   ]
  },
  {
   "cell_type": "code",
   "execution_count": 4,
   "metadata": {
    "collapsed": true,
    "pycharm": {
     "name": "#%%\n"
    }
   },
   "outputs": [],
   "source": []
  }
 ],
 "metadata": {
  "kernelspec": {
   "display_name": "Python 3",
   "language": "python",
   "name": "python3"
  },
  "language_info": {
   "codemirror_mode": {
    "name": "ipython",
    "version": 3
   },
   "file_extension": ".py",
   "mimetype": "text/x-python",
   "name": "python",
   "nbconvert_exporter": "python",
   "pygments_lexer": "ipython3",
   "version": "3.5.4"
  }
 },
 "nbformat": 4,
 "nbformat_minor": 2
}